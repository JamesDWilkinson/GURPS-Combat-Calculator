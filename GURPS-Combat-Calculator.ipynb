{
 "cells": [
  {
   "cell_type": "markdown",
   "id": "37311916",
   "metadata": {},
   "source": [
    "# Purpose of This Project\n",
    "python scripts for the purposes of simulating and analyzing GURPS 4e combat mechanics. I plan to take a functional approach to this calculator to practice my functional programming in python. I may or may not break down and cry and write for loops instead. Either way, I'll write it all down in a Jupyter notebook to document the journey.\n",
    "\n",
    "First, I'll start by finding a function that can roll dice. GURPS 4e combat is highly reliant on dice rolls, so—while we can analyze the rolls mathematically—the ability to run simulations should be a lot more practical in situations where we are learning the mathematics or want to see how it might feel to a player in our game.\n",
    "\n",
    "We'll use the random module"
   ]
  },
  {
   "cell_type": "code",
   "execution_count": 6,
   "id": "d676471c",
   "metadata": {},
   "outputs": [
    {
     "name": "stdout",
     "output_type": "stream",
     "text": [
      "3\n"
     ]
    }
   ],
   "source": [
    "import random as rd\n",
    "\n",
    "print(rd.randint(3,18))"
   ]
  },
  {
   "cell_type": "markdown",
   "id": "04e8dd69",
   "metadata": {},
   "source": [
    "GURPS 4e heavily utilizes the roll of three six sided dice (3d6), abbreviated in the context of the system simply to 3d. Our 3d rolls will have a minimum of 3 and a maximum of 18, as shown above, but the distribution won't be completely linear. We might repackage the `rd.randint` function into another function that makes it easier to think about dice rolls.\n",
    "Also, regarding the functional approach I'd like to take, I am not going to remake randint from scratch. This approach will only apply to user-defined functions."
   ]
  },
  {
   "cell_type": "code",
   "execution_count": null,
   "id": "f15b5c26",
   "metadata": {},
   "outputs": [],
   "source": []
  }
 ],
 "metadata": {
  "kernelspec": {
   "display_name": "Python 3",
   "language": "python",
   "name": "python3"
  },
  "language_info": {
   "codemirror_mode": {
    "name": "ipython",
    "version": 3
   },
   "file_extension": ".py",
   "mimetype": "text/x-python",
   "name": "python",
   "nbconvert_exporter": "python",
   "pygments_lexer": "ipython3",
   "version": "3.8.8"
  }
 },
 "nbformat": 4,
 "nbformat_minor": 5
}
