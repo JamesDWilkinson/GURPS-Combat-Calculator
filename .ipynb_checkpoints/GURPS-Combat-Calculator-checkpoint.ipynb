{
 "cells": [
  {
   "cell_type": "markdown",
   "id": "37311916",
   "metadata": {},
   "source": [
    "# Purpose of This Project\n",
    "This project will contain python scripts for the purposes of simulating and analyzing GURPS 4e combat mechanics. I plan to take a functional approach to this calculator to practice my functional programming in python. I may or may not break down and cry and write for loops instead. I expect to embarrassingly mess up the whole adhering to the functional paradigm entirely and have to revisit a lot of my functions. Either way, I'll write it all down in a Jupyter notebook to document the journey.\n",
    "\n",
    "First, I'll start by finding a function that can roll dice. GURPS 4e combat is highly reliant on dice rolls, so—while we can analyze the rolls mathematically—the ability to run simulations should be a lot more practical in situations where we are learning the mathematics or want to see how it might feel to a player in our game.\n",
    "\n",
    "We'll use the random module"
   ]
  },
  {
   "cell_type": "code",
   "execution_count": 1,
   "id": "d676471c",
   "metadata": {},
   "outputs": [
    {
     "name": "stdout",
     "output_type": "stream",
     "text": [
      "15\n"
     ]
    }
   ],
   "source": [
    "import random as rd\n",
    "\n",
    "print(rd.randint(3,18))"
   ]
  },
  {
   "cell_type": "markdown",
   "id": "04e8dd69",
   "metadata": {},
   "source": [
    "GURPS 4e heavily utilizes the roll of three six sided dice (3d6), abbreviated in the context of the system simply to 3d. Our 3d rolls will have a minimum of 3 and a maximum of 18, as shown above, but the distribution won't be completely linear. We might repackage the `rd.randint()` function into another function. On that note, regarding the functional approach I'd like to take, I am not going to remake `rd.randint()` from scratch to make it more \"functional\". This approach practice will only apply to user-defined functions for the time being.\n",
    "\n",
    "First, we should aim to make a couple of functions: one to roll any number of dice and output a number, particularly rolls of 3d, and one that calculates the probability of getting any given number from a roll.\n",
    "\n",
    "We are going to assume that every single dice we work with will be one that starts at 1, and counts up one whole number until there is a unique number on every face of an n-sided die from 1 to n.\n",
    "\n",
    "# Dice Roll Functions"
   ]
  },
  {
   "cell_type": "code",
   "execution_count": 2,
   "id": "cd6edb00",
   "metadata": {},
   "outputs": [
    {
     "name": "stdout",
     "output_type": "stream",
     "text": [
      "roll 3d6 5 times: 6, 6, 9, 15, 18\n",
      "roll 5d6 5 times: 20, 30, 20, 10, 25\n"
     ]
    }
   ],
   "source": [
    "def roll_dx(x):\n",
    "    return rd.randint(1,x)\n",
    "\n",
    "def roll_xd6(x):\n",
    "    return x*roll_dx(6)\n",
    "\n",
    "print(f'roll 3d6 5 times: {roll_xd6(3)}, {roll_xd6(3)}, {roll_xd6(3)}, {roll_xd6(3)}, {roll_xd6(3)}')\n",
    "print(f'roll 5d6 5 times: {roll_xd6(5)}, {roll_xd6(5)}, {roll_xd6(5)}, {roll_xd6(5)}, {roll_xd6(5)}')"
   ]
  },
  {
   "cell_type": "markdown",
   "id": "9968c68c",
   "metadata": {},
   "source": [
    "The way that our `roll_dx()` function is written, it will give an error for any input besides whole numbers greater than or equal to `1`."
   ]
  },
  {
   "cell_type": "markdown",
   "id": "3232e56d",
   "metadata": {},
   "source": [
    "# Dice Probability Functions\n",
    "\n",
    "Our first dice probability function will be a lot like our function `roll_dx` above. The input for the function will be a whole number greater than or equal to `1` that says how many sides we have on our dice. The output will be a dictionary of all the possible outcomes as keys and their probabilities as values.\n",
    "\n",
    "## Coming up with a solution\n",
    "the first approach that comes to mind is to take our aforementioned input as a local variable `x`, then create an empty dictionary to add entries to. In the case of an input that is `6`, we would want our function to add numbers from 1 to 6 to our dictionary, and make the value a probability in the form of a calculation: 1/6 for each one.\n",
    "\n",
    "I'm doing some lame empty dict technique for this, so it may seem like I have given up on making this hardcore functional and you are correct. The reason is that I have a baby to take care of and she doesn't have the patience for dad to learn how to do this. Refactoring our functions will come at a later date."
   ]
  },
  {
   "cell_type": "code",
   "execution_count": 3,
   "id": "e4209715",
   "metadata": {},
   "outputs": [
    {
     "name": "stdout",
     "output_type": "stream",
     "text": [
      "{1: 0.16666666666666666, 2: 0.16666666666666666, 3: 0.16666666666666666, 4: 0.16666666666666666, 5: 0.16666666666666666, 6: 0.16666666666666666}\n"
     ]
    }
   ],
   "source": [
    "def prob_dx(x):\n",
    "    d = {}\n",
    "    for i in range(x):\n",
    "        d[i+1] = 1/x\n",
    "    return d\n",
    "\n",
    "print(prob_dx(6))"
   ]
  },
  {
   "cell_type": "markdown",
   "id": "9290ac42",
   "metadata": {},
   "source": [
    "Supposedly it is ok to use a dictionary and return one, as long as we don't store it anywhere, creating some mutable state. We could force the output of the function to be an iterator, but I think we are adults and can decide whether or not we want to use our functions as functionally as possible.\n",
    "\n",
    "# WHAT IS FUNCTIONAL PROGRAMMING\n",
    "\n",
    "For the amount I've been mentioning functional programming, I sure haven't defined what it is.\n",
    "\n",
    "For the purposes of this project, we will be using [this](https://docs.python.org/3/howto/functional.html) page as a standard for what functional programming in python is. This howto emphasizes modularity, composability, and ease of debugging and testing.\n",
    "\n",
    "# Dice Probability Functions cont.\n",
    "\n",
    "Let's try to refactor our function from above with a dictionary comprehension instead of all the lines we used"
   ]
  },
  {
   "cell_type": "code",
   "execution_count": 4,
   "id": "3dd7fd8d",
   "metadata": {},
   "outputs": [
    {
     "name": "stdout",
     "output_type": "stream",
     "text": [
      "{1: 0.16666666666666666, 2: 0.16666666666666666, 3: 0.16666666666666666, 4: 0.16666666666666666, 5: 0.16666666666666666, 6: 0.16666666666666666}\n"
     ]
    }
   ],
   "source": [
    "def prob_dx(x):\n",
    "    return {n+1:1/x for n in range(x)}\n",
    "\n",
    "print(prob_dx(6))"
   ]
  },
  {
   "cell_type": "markdown",
   "id": "70f12467",
   "metadata": {},
   "source": [
    "nice and sleek\n",
    "\n",
    "Next, we'll want something that can give us the probability distribution of multiple dice added together in the same roll, such as 3d6. The resulting dictionary in the case of 3d6 should have values 3 through 18 and their probabilities as a number from 0 to 1. If we wanted to calculate this, we might list the number of permutations possible with 3d6 and figure out how many combinations out of 216 give a certain value.\n",
    "\n",
    "I have a feeling that, instead of doing that, we can write a function that does this on the fly while doing math with dictionaries, so let's try.\n",
    "\n",
    "## Finding a solution for 3d6 probability calculator\n",
    "\n",
    "We would want to add up our keys to get new keys: 1+1+1=3, 1+1+2=4, etc. sounds like for loop hell that I may or may not refactor into a comprehension.\n",
    "\n",
    "How do the values factor in? well, in the case of 1+1+1=3, we want to end up doing some operation with 1/6, 1/6, and 1/6 that comes out to 1/216 or 1/(6^3). It seems obvious that we will want to multiply our probabilities together. Let's check 1+1+2: that gives the same exact result, but our for loop hell will run into 4 examples of this. How do we add the probabilities together when we calculate a key that is already in use?\n",
    "\n",
    "We can reference the previous value for the key and add our result to it to set the value of the key. This is poopy mutability, but I'll survive for now. I just have to figure out how to make this work for setting the key in the first place.\n",
    "\n",
    "`dict[1+1+1] += 1/6 * 1/6 * 1/6` works if `dict[1+1+1]` already equals 0. But IDK if that works of if I have to set the key value to 0 first.\n",
    "\n",
    "...\n",
    "\n",
    "I just checked and yeah you can't set a dictionary entry with `+=`\n",
    "\n",
    "so one solution is to do an if statement to check if the key exists or not, and the other is to do a for loop hell before this one to set up the keys for the dictionary. Both of these suck.\n",
    "\n",
    "After much searching I found the .get() method for dictionaries. It is identical to using a key as an index except you can't assign anything to it, and, importantly, you can set a default value for keys that don't exist yet. So that gives me a great way to do something like += except being able to start off without a key via default=0."
   ]
  },
  {
   "cell_type": "code",
   "execution_count": 5,
   "id": "b62f41fb",
   "metadata": {},
   "outputs": [
    {
     "name": "stdout",
     "output_type": "stream",
     "text": [
      "{3: 0.004629629629629629, 4: 0.013888888888888888, 5: 0.027777777777777776, 6: 0.046296296296296294, 7: 0.06944444444444445, 8: 0.09722222222222218, 9: 0.11574074074074067, 10: 0.12499999999999992, 11: 0.12499999999999992, 12: 0.11574074074074067, 13: 0.09722222222222218, 14: 0.06944444444444445, 15: 0.046296296296296294, 16: 0.027777777777777776, 17: 0.013888888888888888, 18: 0.004629629629629629}\n"
     ]
    }
   ],
   "source": [
    "def prob_d6():\n",
    "    return prob_dx(6)\n",
    "\n",
    "def prob_3d6():\n",
    "    d = {}\n",
    "    for n, m in prob_d6().items():\n",
    "        for j, k in prob_d6().items():\n",
    "            for i, o in prob_d6().items():\n",
    "                d[n+j+i] = d.get(n+j+i, 0) + (m*k*o)\n",
    "    return d\n",
    "                \n",
    "print(prob_3d6())"
   ]
  },
  {
   "cell_type": "markdown",
   "id": "75ac2ca3",
   "metadata": {},
   "source": [
    "Two things:\n",
    "1. Holy floats batman, I'm sure there is some kind of fractions library I can use to make this a lot cleaner\n",
    "2. for loop hell is looking really shabby too, I'll have to look into those fancy functional functions like filter. It's worth noting that the reason for the for loops is for finding permutations and calculating probabilities together all in one step. This could have been a lot more annoying; I hate looking for the permutations of big dice rolls that are totaled together.\n",
    "Bonus thing 3. This function could be generalized. I don't know how, maybe one of those magical functional functions, but I'm sure it can be. Maybe recursion\n",
    "\n",
    "Anyway, let's solve problem number 1\n",
    "\n",
    "## Representing probabilities as fractions\n",
    "\n",
    "the original fractions come from our `prob_dx` function from earlier, so we'll focus on that."
   ]
  },
  {
   "cell_type": "code",
   "execution_count": 6,
   "id": "44456688",
   "metadata": {},
   "outputs": [
    {
     "name": "stdout",
     "output_type": "stream",
     "text": [
      "{1: Fraction(1, 6), 2: Fraction(1, 6), 3: Fraction(1, 6), 4: Fraction(1, 6), 5: Fraction(1, 6), 6: Fraction(1, 6)}\n"
     ]
    }
   ],
   "source": [
    "from fractions import Fraction\n",
    "\n",
    "def prob_dx(x):\n",
    "    return {n+1:Fraction(1, x) for n in range(x)}\n",
    "\n",
    "print(prob_dx(6))"
   ]
  },
  {
   "cell_type": "markdown",
   "id": "7cadc260",
   "metadata": {},
   "source": [
    "Cool, let's see if it works with no changes for `prob_3d6`"
   ]
  },
  {
   "cell_type": "code",
   "execution_count": 7,
   "id": "7b52ae38",
   "metadata": {},
   "outputs": [
    {
     "name": "stdout",
     "output_type": "stream",
     "text": [
      "{3: Fraction(1, 216), 4: Fraction(1, 72), 5: Fraction(1, 36), 6: Fraction(5, 108), 7: Fraction(5, 72), 8: Fraction(7, 72), 9: Fraction(25, 216), 10: Fraction(1, 8), 11: Fraction(1, 8), 12: Fraction(25, 216), 13: Fraction(7, 72), 14: Fraction(5, 72), 15: Fraction(5, 108), 16: Fraction(1, 36), 17: Fraction(1, 72), 18: Fraction(1, 216)}\n"
     ]
    }
   ],
   "source": [
    "print(prob_3d6())"
   ]
  },
  {
   "cell_type": "markdown",
   "id": "de2c2664",
   "metadata": {},
   "source": [
    "That is fantastic. If we want, we can display our values as more accurate decimal representations, and we'll want to in order to analyze probabilities, but I think better in terms of fractions for sure, so we'll leave it for now.\n",
    "\n",
    "## Generalize `prob_3d6` into `prob_xd6`\n",
    "\n",
    "The idea right now is to use recursion to generalize our nested for loops in order to nest an arbitrary number of times.\n",
    "\n",
    "Let's start backwards: the final line—`d[n+j+i] = d.get(n+j+i, 0) + (m*k*o)`—can be generalized. Let's try using the `sum()` function and the `numpy.prod()` function.\n",
    "\n",
    "`d[sum(list_of_x_keys)] = d.get(sum(list_of_x_keys), 0) + np.prod(list_of_x_values)`\n",
    "\n",
    "should work!\n",
    "\n",
    "This means that we need to define those lists at some point. We are going to nest x for loops together—actually maybe something in itertools should do this? I realized I was about to use the word iterate, and I was gazing at the `itertools.Product()` function wondering what it was for while I was looking for `numpy.prod()`, and it looks like it might be a fit for this? if not there are many other options, so I will explore [that](https://docs.python.org/3/library/itertools.html) later.\n",
    "\n",
    "It looks like, researching itertools, I can use a combination of my `prod_d6()` function—or some slight modification of it—with the `itertools.accumulate()` function. I'd use the default summing for the dictionary keys and something like `numpyp.prod()` within `itertools.accumulate()` for the dictionary values\n",
    "\n",
    "It's a bit to wrap my head around though.\n",
    "\n",
    "The way I did it earlier does the cartesian product that indicates all possible rolls, the totaling of the rolls as one would do in a game setting, and the probability calculation all in one step. Every time I try to write code using itertools functions to do what I did earlier for `prob_3d6`, I get close, but I don't see how to combine everything to get the result I want.\n",
    "\n",
    "### Brainstorm approaches\n",
    "\n",
    "Approach 1: nested for loops set up three dictionaries and math is done to calculate roll totals and probabilities all at once.\n",
    "\n",
    "Approach 2: calculate cartesian product, sum all combinations listed by the cartesian product and end up with an iterable that looks like `[3, 4, 4, 4, etc.]`, calculate the probability of a unique dice roll (ex. 1/216) either by taking one divided by the length of the iterable or by doing one divided by the product of the number of sides of each dice, and then finally get the probability of any unique roll total by taking how many times the roll total appears in the list and multiplying it by my probability\n",
    "\n",
    "Approach 1.5: generalize nested for loops and use the approach I already have worked out? It really seems to be the more beautiful solution.\n",
    "\n",
    "Approach 1.1: write a list comprehension version of what I already have?\n",
    "\n",
    "### Brainstorm 2\n",
    "\n",
    "* number of dice being totaled together, x\n",
    "* number of faces on dice, y (6 by default)\n",
    "* probability of a total occurring, p = y**-x\n",
    "* `itertools.product(range(1, y+1), repeat=x)`\n",
    "* sum all 216 items to find totals\n",
    "* count all 216 items and return how many of each total there is, like `Series.value_counts()` from Pandas\n",
    "* take this list of numbers and how often they appear and multiply the frequency by p\n",
    "* the list is now probabilities for any given total"
   ]
  },
  {
   "cell_type": "code",
   "execution_count": 8,
   "id": "f0e6f030",
   "metadata": {},
   "outputs": [
    {
     "data": {
      "text/plain": [
       "3     0.004630\n",
       "4     0.013889\n",
       "5     0.027778\n",
       "6     0.046296\n",
       "7     0.069444\n",
       "8     0.097222\n",
       "9     0.115741\n",
       "10    0.125000\n",
       "11    0.125000\n",
       "12    0.115741\n",
       "13    0.097222\n",
       "14    0.069444\n",
       "15    0.046296\n",
       "16    0.027778\n",
       "17    0.013889\n",
       "18    0.004630\n",
       "dtype: float64"
      ]
     },
     "execution_count": 8,
     "metadata": {},
     "output_type": "execute_result"
    }
   ],
   "source": [
    "import itertools as it\n",
    "import pandas as pd\n",
    "\n",
    "def prob_nds(num_of_dice=3, sides=6):\n",
    "    all_possible_totals = pd.Series(sum(element) for element in it.product(range(1, sides+1), repeat=num_of_dice))\n",
    "    return all_possible_totals.value_counts(sort=False) * sides**-num_of_dice\n",
    "\n",
    "prob_nds()"
   ]
  },
  {
   "cell_type": "markdown",
   "id": "1ebb29e1",
   "metadata": {},
   "source": [
    "## OOF, Finally\n",
    "That took too long! Functional paradigms feel like they are gone out the window, assuming we even knew what they were to begin with. There may be a way to get rid of that for loop that is used for the generator expression, we probably don't need this to be a pandas Series in the slightest but I don't know an easy way to do it otherwise, and who knows how it compares to our previous function performance-wise, but I'm mostly just glad that it works.\n",
    "\n",
    "### Further usefulness (probably for a much later date):\n",
    "* Be able to calculate and display probabilities as the probability of getting a certain result or lower/or higher\n",
    "* Calculate probability for totals of mixed dice types, i.e. d10 + 2d8 (not that this is used in any game system, but it might be cool if it were used in some system, may be a cool experimental game design tool!)\n",
    "* Account for non-standard-faced dice like [Grime dice](https://mathsgear.co.uk/products/non-transitive-grime-dice) or dice that start at 0 or 2 or whatever\n",
    "* Account for dice where low results like 1s are rerolled, but this is covered in the last point since a d6 roll that rerolls on a 1 is a d5 that starts at 2.\n",
    "* Account for rolls like 4d6 drop lowest.\n",
    "\n",
    "## Moving forward\n",
    "We'll start working towards calculating DPS—damage per second—in GURPS combat.\n",
    "\n",
    "Doing so can be a bit complicated, because there is a hit chance which determines if you are allowed to do damage, a defense chance which determines again whether or not you are allowed to do damage, and then chance involved in determining the actual damage value. Furthermore there are combat choices that can trade off hit chance for defense chance, hit chance for damage amount, hit chance for more attack attempts, and critical hit bonuses. On top of that, there are strategies like striking the head that—depending on the dice—could result in incapacitation and thus very high DPS due to low defense chance, attacking with multiple people per round on one target which can affect defense chance, and even non-direct damage strategies like trying to push a target off of a cliff. Furthermore, a lot of the attributes invovled in these calculations are often weighted by a point-buy system. Again, calculating DPS can be a bit complicated.\n",
    "\n",
    "DPS is often more useful in long fights, but GURPS combat tends to be volatile and over quickly. The value of a DPS number in this case is as an indicator of what is the safest method to deal damage—the optimal gambling strategies."
   ]
  },
  {
   "cell_type": "markdown",
   "id": "d417ec81",
   "metadata": {},
   "source": [
    "# DPS calculations, preliminary work\n",
    "\n",
    "Now that we have something that can roll dice and tell us the probability of getting a given total—a set of faces added together—we can hopefully make good use of it by giving context to the damage rolls in GURPS, and use it to measure the trade-offs between various combat options in the system.\n",
    "\n",
    "We'll start by seeing if we can code a function that tells us DPS in a very contrived situation: There is an attack roll with an effective skill at 14, a defense roll with an effective skill at 9, and a damage roll of 1d of crushing damage. What is the DPS?\n",
    "\n",
    "Before the coding though, let's see if we can intuit the answer. Assuming just the damage roll, the DPS is 3.5 DPS (one attack roll per round, and one round takes one second in GURPS 4e. If we add in a defense roll, we realize that we have the probability for any given total, but what we actually want is the probability of getting 9 or lower. Let's code that really quick."
   ]
  },
  {
   "cell_type": "code",
   "execution_count": 9,
   "id": "37ad77f4",
   "metadata": {},
   "outputs": [
    {
     "data": {
      "text/plain": [
       "3     0.004630\n",
       "4     0.018519\n",
       "5     0.046296\n",
       "6     0.092593\n",
       "7     0.162037\n",
       "8     0.259259\n",
       "9     0.375000\n",
       "10    0.500000\n",
       "11    0.625000\n",
       "12    0.740741\n",
       "13    0.837963\n",
       "14    0.907407\n",
       "15    0.953704\n",
       "16    0.981481\n",
       "17    0.995370\n",
       "18    1.000000\n",
       "dtype: float64"
      ]
     },
     "execution_count": 9,
     "metadata": {},
     "output_type": "execute_result"
    }
   ],
   "source": [
    "def prob_success_3d6():\n",
    "    return prob_nds(num_of_dice=3, sides=6).cumsum()\n",
    "    \n",
    "prob_success_3d6()"
   ]
  },
  {
   "cell_type": "markdown",
   "id": "25971c4d",
   "metadata": {},
   "source": [
    "Another issue to worry about in the future has to do with index 18. It is a given that aiming for a total of 18 or lower (meaning a roll for skill at 18) has a 100% success rate, but this is notable for a special reason, because an 18 is a \"critical fail\" in GURPS regardless of almost any other factors; combined with a critical fail table, this makes a roll of 18 a can of worms for calculating DPS. There are similar issues like 3 and 4 being a \"critical success\", accompanied by at least two tables; additionally, 17 is an automatic fail, and there are conditions that widen the critical success range. We'll cross that bridge when we get there.\n",
    "\n",
    "Now, back to our contrived situation: the first roll is an attack roll at skill 14, so there is a 91% chance of that succeeding. Then there is a defense roll; we actually want to know the chance of this failing, so we'll make another function that does a reverse cumulative sum."
   ]
  },
  {
   "cell_type": "code",
   "execution_count": 10,
   "id": "9248ed17",
   "metadata": {},
   "outputs": [
    {
     "data": {
      "text/plain": [
       "18    0.004630\n",
       "17    0.018519\n",
       "16    0.046296\n",
       "15    0.092593\n",
       "14    0.162037\n",
       "13    0.259259\n",
       "12    0.375000\n",
       "11    0.500000\n",
       "10    0.625000\n",
       "9     0.740741\n",
       "8     0.837963\n",
       "7     0.907407\n",
       "6     0.953704\n",
       "5     0.981481\n",
       "4     0.995370\n",
       "3     1.000000\n",
       "dtype: float64"
      ]
     },
     "execution_count": 10,
     "metadata": {},
     "output_type": "execute_result"
    }
   ],
   "source": [
    "def prob_failure_3d6():\n",
    "    return prob_nds(num_of_dice=3, sides=6)[::-1].cumsum()\n",
    "\n",
    "prob_failure_3d6()"
   ]
  },
  {
   "cell_type": "markdown",
   "id": "438d8933",
   "metadata": {},
   "source": [
    "The way that we want to read this is that a dodge roll at skill 3 has a 100% chance of failure. This is not true.\n",
    "\n",
    "Our previous function gives us the probability of getting a certain total or lower. This function gives us the probability of getting a certain total or higher, but we don't want that because a getting a certain total is a success. We want the probability of getting lower than a certain total not including said certain total. We don't have any boolean statements going on so we can't fix our inequality operator. A way might be to subtract 1 from all of our indexes; this would include the row [2, 100% chance of failure], which is true in GURPS, and would include [18, 0% chance of failure], which is not true because of our special rules regarding 17 and 18. It will work well enough for now once we code it."
   ]
  },
  {
   "cell_type": "code",
   "execution_count": 11,
   "id": "a6a3ee74",
   "metadata": {},
   "outputs": [
    {
     "data": {
      "text/plain": [
       "17    0.013889\n",
       "16    0.041667\n",
       "15    0.087963\n",
       "14    0.157407\n",
       "13    0.254630\n",
       "12    0.370370\n",
       "11    0.495370\n",
       "10    0.620370\n",
       "9     0.736111\n",
       "8     0.833333\n",
       "7     0.902778\n",
       "6     0.949074\n",
       "5     0.976852\n",
       "4     0.990741\n",
       "3     0.995370\n",
       "2          NaN\n",
       "dtype: float64"
      ]
     },
     "execution_count": 11,
     "metadata": {},
     "output_type": "execute_result"
    }
   ],
   "source": [
    "def prob_failure_3d6():\n",
    "    subtract_one_from_index = pd.Series(data=prob_nds(num_of_dice=3, sides=6), index=prob_nds(num_of_dice=3, sides=6).index - 1)\n",
    "    return subtract_one_from_index[::-1].cumsum()\n",
    "\n",
    "prob_failure_3d6()"
   ]
  },
  {
   "cell_type": "markdown",
   "id": "0be15740",
   "metadata": {},
   "source": [
    "Something strange happened! Unfortunately, when we manipulated our indexes, our values changed to match them; the value for 18 is gone and the value for 2 doesn't exist. Maybe we can try to reset the indexes with a list comprehension instead."
   ]
  },
  {
   "cell_type": "code",
   "execution_count": 12,
   "id": "03fed67f",
   "metadata": {},
   "outputs": [
    {
     "data": {
      "text/plain": [
       "17    0.004630\n",
       "16    0.018519\n",
       "15    0.046296\n",
       "14    0.092593\n",
       "13    0.162037\n",
       "12    0.259259\n",
       "11    0.375000\n",
       "10    0.500000\n",
       "9     0.625000\n",
       "8     0.740741\n",
       "7     0.837963\n",
       "6     0.907407\n",
       "5     0.953704\n",
       "4     0.981481\n",
       "3     0.995370\n",
       "2     1.000000\n",
       "dtype: float64"
      ]
     },
     "execution_count": 12,
     "metadata": {},
     "output_type": "execute_result"
    }
   ],
   "source": [
    "def prob_failure_3d6():\n",
    "    subtract_one_from_index = prob_nds(num_of_dice=3, sides=6)\n",
    "    subtract_one_from_index.index = (index - 1 for index in subtract_one_from_index.index)\n",
    "    return subtract_one_from_index[::-1].cumsum()\n",
    "\n",
    "prob_failure_3d6()"
   ]
  },
  {
   "cell_type": "markdown",
   "id": "50ca80c4",
   "metadata": {},
   "source": [
    "That is correct! woo\n",
    "\n",
    "I used a generator expression instead of a list comprehension though; I had forgotten they existed temporarily. I guess you could say I was lazy or that it simply didn't take much space in my memory. We could have just taken the chance of success and subtracted it from 100%, but somehow I didn't think of that. At least we learned something about pandas indexes.\n",
    "\n",
    "back to our combat situation: the first roll is an attack roll at skill 14 with a 90.7% chance of success. Then there is a defense roll at skill 9 with a 62.5% chance of failure, which in this case a failure is a \"success\" from the attacker's perspective, bringing the total probability of landing a hit to `prob_success_3d6().loc[14] * prob_failure_3d6().loc[9]`"
   ]
  },
  {
   "cell_type": "code",
   "execution_count": 13,
   "id": "4667756c",
   "metadata": {},
   "outputs": [
    {
     "data": {
      "text/plain": [
       "0.5671296296296295"
      ]
     },
     "execution_count": 13,
     "metadata": {},
     "output_type": "execute_result"
    }
   ],
   "source": [
    "prob_success_3d6().loc[14] * prob_failure_3d6().loc[9]"
   ]
  },
  {
   "cell_type": "markdown",
   "id": "89b1193d",
   "metadata": {},
   "source": [
    "which equals 56.7% chance to land a hit. The system seems to assume that PCs will be using skills at levels such as this, and people wonder why their GURPS combat seems sluggish. To make matters worse, effective defense skills tend to be even higher and damage often ends with damage reduction from armor. This might be something we can balance out if we analyze it with math!\n",
    "\n",
    "Next, we need to see how a 56.7% chance to hit an average of 3.5 damage translates to DPS, then we can add other factors from the system that will complicate matters.\n",
    "\n",
    "what does the math for this look like? Well, if we have a 0% chance to hit (ignoring critical success), we have 0 DPS, and if we have a 100% chance to hit (again ignoring critical success), then we have 3.5 DPS. It would seem that if we have a 50% chance, then the expectation is that our DPS is 3.5 one second, and 0 the next; there isn't anything weird going on here, to calculate DPS, we multiply the damage by the chance to hit.\n",
    "\n",
    "When we make our function, we'll have to figure out what the inputs should be, but for now we'll just try and iterate as we go."
   ]
  },
  {
   "cell_type": "code",
   "execution_count": 14,
   "id": "e1c48495",
   "metadata": {},
   "outputs": [
    {
     "name": "stdout",
     "output_type": "stream",
     "text": [
      "0.5671296296296295\n",
      "1.9849537037037033\n"
     ]
    }
   ],
   "source": [
    "# A simple function that assumes a regular n sided dice with the faces labeled 1 through n, and returns the average roll.\n",
    "# We'll use math instead of actually adding up the sides and taking an average\n",
    "def average_damage(sides_on_dice=6):\n",
    "    return sides_on_dice / 2 + 0.5\n",
    "\n",
    "def dps(attack_skill, defense_skill, sides_on_dice=6):\n",
    "    return prob_success_3d6().loc[attack_skill] * prob_failure_3d6().loc[defense_skill] * average_damage(sides_on_dice)\n",
    "\n",
    "print(prob_success_3d6().loc[14] * prob_failure_3d6().loc[9])\n",
    "print(dps(14, 9))"
   ]
  },
  {
   "cell_type": "markdown",
   "id": "936063d9",
   "metadata": {},
   "source": [
    "With an attack skill of 14, a defense skill of 9, and a damage dice of 1d crushing damage, our damage per second is expected to be a little less than 2 damage per second. With no outstanding factors and no critical failures or critical successes, we can expect combat against a 10 HP target to take about 5 rounds, of course an outstanding factor that naturally arises here is that when a target is at low HP, they can become worse at various defenses such as dodging. Again, right now the goal with our `dps()` function is to provide a heuristic for what action is the most likely to progress combat on a turn to turn basis, and how the game will feel to a player. We learned that about half of the turns taken will result in nothing happening, and that it will take an average of 5 rounds, though in the future we might want to run simulations to see if the average is a useful value or if a large percentage of simulations take 4 or 6 rounds or some result that splits the average even more egregiously; in other words \"how swingy is our combat scenario\".\n",
    "\n",
    "Another common trait to look forward to is damage reduction: we'll have to answer the question of whether damage reduction is commutative—whether we can just add it into our multiplication in our `dps()` function—or whether we'll need to factor it in in a different way.\n",
    "\n",
    "Either way, this is great! Now we need to figure out what we'll tackle next. We could try to take a more real GURPS combat situation and see if our tools can help us analyze what is happening, and what else we should code to make them more helpful tools. I think an obvious direction is to start factoring in the deceptive attack mechanic and write code that can figure out the optimal amount of deceptive attack.\n",
    "\n",
    "# Deceptive attack calculations\n",
    "A deceptive attack is a mechanic in which an attacker takes a -2 to their attack in return for a -1 on the defender's defense roll. This works because skill levels can be higher than 16 and because the probability distribution of 3d6 is not linear like d20 is. What we want to do is be able to modify our `dps()` function such that it factors in deceptive attack to the calculation."
   ]
  },
  {
   "cell_type": "code",
   "execution_count": 15,
   "id": "54c0d8c2",
   "metadata": {},
   "outputs": [
    {
     "name": "stdout",
     "output_type": "stream",
     "text": [
      "1.9849537037037033\n",
      "1.9204389574759941\n",
      "1.4664351851851851\n"
     ]
    }
   ],
   "source": [
    "# our new parameter \"deceptive attack\" will be whole numbers and multiply the effects: -2 to attack, -1 to defense\n",
    "def dps(attack_skill, defense_skill, deceptive_attack=0, sides_on_dice=6):\n",
    "    attack_skill -= 2 * deceptive_attack\n",
    "    defense_skill -= 1 * deceptive_attack\n",
    "    return prob_success_3d6().loc[attack_skill] * prob_failure_3d6().loc[defense_skill] * average_damage(sides_on_dice)\n",
    "\n",
    "print(dps(14, 9, 0))\n",
    "print(dps(14, 9, 1))\n",
    "print(dps(14, 9, 2))"
   ]
  },
  {
   "cell_type": "markdown",
   "id": "d37a1169",
   "metadata": {},
   "source": [
    "One might wonder why deceptive attack is a thing if it just makes our damage numbers worse, and indeed it is a confusing mechanic to be sure. There are situations in which deceptive attack can be better:"
   ]
  },
  {
   "cell_type": "code",
   "execution_count": 16,
   "id": "60d99e9c",
   "metadata": {
    "scrolled": true
   },
   "outputs": [
    {
     "name": "stdout",
     "output_type": "stream",
     "text": [
      "2.0862268518518516\n",
      "2.172496570644719\n",
      "1.8330439814814814\n"
     ]
    }
   ],
   "source": [
    "print(dps(15, 9, 0))\n",
    "print(dps(15, 9, 1))\n",
    "print(dps(15, 9, 2))"
   ]
  },
  {
   "cell_type": "markdown",
   "id": "0db6dc29",
   "metadata": {},
   "source": [
    "with just one more level in our attack skill, a first level deceptive attack is actually slightly better. We could make an algorithm that tries to find the optimal deceptive attack value, but such an algorithm would be pretty useless; our players aren't going to be able to calculate this on the spot and this would likely be too cumbersome a tool for a GM to use in any capacity. Either way, bringing up a calculator to optimize combat doesn't sound fun anyway.\n",
    "\n",
    "And there is a looming optimization problem where players are either tryharding or have dread that the choices they make are actually making them fight less optimally, so some players have a choice: be safe and don't use the mechanic or probably botch your optimization.\n",
    "\n",
    "Not to mention: without deceptive attack, DPS can quickly take a nose dive if a character increases their dodge skill:"
   ]
  },
  {
   "cell_type": "code",
   "execution_count": 17,
   "id": "684bf31a",
   "metadata": {},
   "outputs": [
    {
     "name": "stdout",
     "output_type": "stream",
     "text": [
      "0.15903635116598078\n"
     ]
    }
   ],
   "source": [
    "print(dps(16, 15, 0))"
   ]
  },
  {
   "cell_type": "markdown",
   "id": "338038b3",
   "metadata": {},
   "source": [
    "Our average damage is 3.5 This means that we can expect an average of about 22 turns of absolutely nothing happening. No. Just no, this is bad.\n",
    "\n",
    "To make matters worse, there is a mechanic in GURPS, used to scale down encounters between beings with very high defensive and offensive skills, so that they don't break the system, but this runs into some more unfun optimization issues, and is more just to be used as duct tape during a session. It is hard to escape this optimization problem, but players are going to be forced to try to crack it since otherwise combat will be boring, but they'll probably hit a negative feedback loop where experimenting will make their attempts even less optimal than if they just attacked regularly\n",
    "\n",
    "So here is the homebrew rule that I want to use: deceptive attack is automatically applied, for example:\n",
    "\n",
    "Attack at skill 15, rolls 6. Defense at skill 12, rolls 12. Both succeed normally, but that is where the automatic application of deceptive attack comes in\n",
    "\n",
    "Attack at skill 15, rolls 6. (15-6)/2 no remainder = 4*. Effective defense skill is 12-4 = 8, rolls 12. Hit!\n",
    "\n",
    "*to be clear, what we are doing here is applying a 4th level deceptive attack automatically and retroactively. An effective skill level of 15-8 is 7, and that is more than we need to succeed with a roll of 6.\n",
    "\n",
    "GURPS combat tends to be slow and non-deadly, and also clunky and awful where two competent fighters duke it out while nothing interesting happens for turn after turn after turn. It's possible that this homebrew rule needs to be tweaked, and that is what we are here for! we have math and algorithms! But it already seems more realistic if you've seen any kind of HEMA or Olympic Fencing duel, because this will make fights last a lot less time. They are often over very quickly as they are simulating unarmored combat.\n",
    "\n",
    "But now, how do we code it\n",
    "\n",
    "## Coding special homebrew deceptive attack\n",
    "\n",
    "this entangles the the effective attack and effective defense skills in a seemingly weird way. To wrap our head around this, let's think of our DPS calculation: attack probability * defense probability * average damage. Right now, we want to ignore the average damage, and treat the first two terms as one term. But we have an interesting problem: The lower we actually roll on the attack, the better the attack actually becomes.\n",
    "\n",
    "For now, let's assume a weird situation where the attack and defense skill are both 3. There is no deceptive attack even possible. Now attack and defense skill 5. Now your probability to hit isn't att 5 vs def 5 or att 3 vs def 4 like it was before. Now we can't simply have the chance of getting 5 or lower vs not-getting 5 or lower, because we have distinct situations now depending on what is actually rolled. if a 5 or 4 is rolled, then `dps(5, 5)` covers the calculation since the `5` for the attack skill represents getting a 5 or lower, but once we roll a 3, then suddenly we need the probability of `dps(3, 4)`, and for calculating DPS, this needs to be encapsulated in one calculation.\n",
    "\n",
    "This is all useless conversation for real application because a 4 or 3 is an automatic hit because it is a critical success and will often add other effects such as more damage, but we ignore that to make the math a bit simpler and smaller.\n",
    "\n",
    "If we recycle our `dps()` funciton, then we can make a larger function, and we might even be able to use the deceptive_attack parameter we already put in. I'm still having difficulty imagining how to even start calculating this correctly though.\n",
    "\n",
    "### Saying the process out loud\n",
    "We are going to just slog this out. No fancy code, just thinking and exploration and we'll make insights and get ideas for coding afterwards.\n",
    "\n",
    "The probability of landing a hit with a skill of 15 vs a defense skill of 9 is usually 59.6%, but it will be higher with our homebrew rule, so we know that our calculation should involve making this probability even bigger. Let's go through the list of possible results, ignoring criticals. First though, we'll print out our probabilities of getting any individual result again with our old friend `prob_nds()` as well as the probabilities of getting a certain roll or lower:"
   ]
  },
  {
   "cell_type": "code",
   "execution_count": 18,
   "id": "a08a3f4a",
   "metadata": {},
   "outputs": [
    {
     "name": "stdout",
     "output_type": "stream",
     "text": [
      "3     0.004630\n",
      "4     0.013889\n",
      "5     0.027778\n",
      "6     0.046296\n",
      "7     0.069444\n",
      "8     0.097222\n",
      "9     0.115741\n",
      "10    0.125000\n",
      "11    0.125000\n",
      "12    0.115741\n",
      "13    0.097222\n",
      "14    0.069444\n",
      "15    0.046296\n",
      "16    0.027778\n",
      "17    0.013889\n",
      "18    0.004630\n",
      "dtype: float64\n",
      "\n",
      "3     0.004630\n",
      "4     0.018519\n",
      "5     0.046296\n",
      "6     0.092593\n",
      "7     0.162037\n",
      "8     0.259259\n",
      "9     0.375000\n",
      "10    0.500000\n",
      "11    0.625000\n",
      "12    0.740741\n",
      "13    0.837963\n",
      "14    0.907407\n",
      "15    0.953704\n",
      "16    0.981481\n",
      "17    0.995370\n",
      "18    1.000000\n",
      "dtype: float64\n"
     ]
    }
   ],
   "source": [
    "print(prob_nds())\n",
    "print()\n",
    "print(prob_success_3d6())"
   ]
  },
  {
   "cell_type": "markdown",
   "id": "6509fcf1",
   "metadata": {},
   "source": [
    "* 18: We rolled an 18, we failed because our skill is lower than 18\n",
    "* 17, 16: Same\n",
    "* 15: Success! we hit\n",
    "* 14: Same\n",
    "* 13: This is where it gets interesting; we now retroactively apply one level of deceptive attack. Since we know we've already succeeded on our attack roll, the only thing that happens is that the effective defense skill roll will be at -1; this increases our chance to hit.\n",
    "* 12: Same\n",
    "* 11, 10: Same but -2\n",
    "* 9, 8: Same but -3\n",
    "* 7, 6: Same but -4\n",
    "* 5, 4: Same but -5\n",
    "* 3: Same but -6\n",
    "\n",
    "Let's go step by step and discuss the probabilities of each event happening"
   ]
  },
  {
   "cell_type": "code",
   "execution_count": 19,
   "id": "56270f83",
   "metadata": {},
   "outputs": [
    {
     "data": {
      "text/plain": [
       "0.046296296296296294"
      ]
     },
     "execution_count": 19,
     "metadata": {},
     "output_type": "execute_result"
    }
   ],
   "source": [
    "# First, 18-16\n",
    "prob_nds()[[18, 17, 16]].sum()"
   ]
  },
  {
   "cell_type": "code",
   "execution_count": 20,
   "id": "3885d52d",
   "metadata": {},
   "outputs": [
    {
     "data": {
      "text/plain": [
       "0.11574074074074074"
      ]
     },
     "execution_count": 20,
     "metadata": {},
     "output_type": "execute_result"
    }
   ],
   "source": [
    "# With an attack of 15, there is a chance of 4.6% that we just miss—no defense roll needed.\n",
    "#Next, 15-14\n",
    "prob_nds()[[15, 14]].sum()"
   ]
  },
  {
   "cell_type": "code",
   "execution_count": 21,
   "id": "f60f778d",
   "metadata": {},
   "outputs": [
    {
     "data": {
      "text/plain": [
       "0.625"
      ]
     },
     "execution_count": 21,
     "metadata": {},
     "output_type": "execute_result"
    }
   ],
   "source": [
    "# There is a chance of 11.6% that we have a certain chance to hit: remember, there is still a defense roll.\n",
    "# We will use our chance to fail function since that represents our defense roll\n",
    "\n",
    "prob_failure_3d6()[9]"
   ]
  },
  {
   "cell_type": "code",
   "execution_count": 22,
   "id": "0f7b6333",
   "metadata": {},
   "outputs": [
    {
     "data": {
      "text/plain": [
       "[0.07233796296296297]"
      ]
     },
     "execution_count": 22,
     "metadata": {},
     "output_type": "execute_result"
    }
   ],
   "source": [
    "# So, that's an 11.6% chance to have a 62.5% chance of success.\n",
    "# We can multiply these together to find one of our chances of success, and it can be added together with other values later\n",
    "\n",
    "success_values = []\n",
    "\n",
    "success_values.append(prob_nds()[[15, 14]].sum() * prob_failure_3d6()[9])\n",
    "success_values"
   ]
  },
  {
   "cell_type": "code",
   "execution_count": 23,
   "id": "07711dcb",
   "metadata": {},
   "outputs": [
    {
     "data": {
      "text/plain": [
       "[0.07233796296296297, 0.1577503429355281]"
      ]
     },
     "execution_count": 23,
     "metadata": {},
     "output_type": "execute_result"
    }
   ],
   "source": [
    "# Thats a 7.2% chance of success, but we aren't done yet.\n",
    "# We can do the same with 13-12, and our probability of failure will be at one less skill level\n",
    "success_values.append(prob_nds()[[13, 12]].sum() * prob_failure_3d6()[8])\n",
    "success_values"
   ]
  },
  {
   "cell_type": "code",
   "execution_count": 24,
   "id": "d8b2b4b7",
   "metadata": {},
   "outputs": [
    {
     "data": {
      "text/plain": [
       "[0.07233796296296297,\n",
       " 0.1577503429355281,\n",
       " 0.20949074074074073,\n",
       " 0.1932441700960219,\n",
       " 0.11038237311385458,\n",
       " 0.040895061728395056,\n",
       " 0.004608196159122085]"
      ]
     },
     "execution_count": 24,
     "metadata": {},
     "output_type": "execute_result"
    }
   ],
   "source": [
    "# repeat the process\n",
    "success_values.append(prob_nds()[[11, 10]].sum() * prob_failure_3d6()[7])\n",
    "success_values.append(prob_nds()[[9, 8]].sum() * prob_failure_3d6()[6])\n",
    "success_values.append(prob_nds()[[7, 6]].sum() * prob_failure_3d6()[5])\n",
    "success_values.append(prob_nds()[[5, 4]].sum() * prob_failure_3d6()[4])\n",
    "success_values.append(prob_nds()[3] * prob_failure_3d6()[3])\n",
    "\n",
    "success_values"
   ]
  },
  {
   "cell_type": "markdown",
   "id": "19142bc7",
   "metadata": {},
   "source": [
    "The sum of this list should be higher than our previous value of 59.6%, but I assume not game breakingly high. In the future we should be on the lookout for something that would invalidate this method of evaluation, such as discovering that it can give over a 100% chance of success, which is impossible. To be fair, we aren't considering everything correctly yet, so it would be useless to check now."
   ]
  },
  {
   "cell_type": "code",
   "execution_count": 25,
   "id": "4c32a4d5",
   "metadata": {},
   "outputs": [
    {
     "data": {
      "text/plain": [
       "0.7887088477366254"
      ]
     },
     "execution_count": 25,
     "metadata": {},
     "output_type": "execute_result"
    }
   ],
   "source": [
    "sum(success_values)"
   ]
  },
  {
   "cell_type": "markdown",
   "id": "d5442353",
   "metadata": {},
   "source": [
    "All right, so our homebrew rule significantly increases our chance to hit in combat. This is probably a good thing as it will make combat even more dangerous\n",
    "\n",
    "To clarify, these homebrew rules are for using weapons that are lower tech-level than guns in GURPS4e. They might not play very well with very lethal weapons like guns. This rule might even not be a full replacement for the deceptive attack mechanic, but instead something that bypasses it if a requirement is met in combat, like finding a weakness by passing an intelligence check or doing 3 or 4 evaluate maneuvers in a row (The evaluate maneuver needs a buff really since it is often far better to simply attack multiple times rather than try to increase your chance to hit once, the value of evaluate should be evaluated later in this project)."
   ]
  },
  {
   "cell_type": "markdown",
   "id": "c8f81386",
   "metadata": {},
   "source": [
    "In this case, we saw ~25% increase in chance to hit with just this rule. This is comparable to a D&D 5e character getting a +5 to an attack, which is roughly equal to advantage in that system as well. This is a powerful increase.\n",
    "\n",
    "Later, we'll decide if turning this on permanently might be necessary to keep combat from being stale and clunky, or if it should be a special tool in the player's kit to occasionally get a decisive advantage in combat.\n",
    "\n",
    "One idea is that this could be a bit of a gameflow and narrative tool: Combat focused encounters would use this rule to be done with it faster and add more danger, whereas encounters where the objective might be a mcguffin or a chase or an escort could use normal GURPS rules to increase survivability and the tension of the next roll potentially being that very rare decisive hit. GMs might ask the players their intention for an encounter: if they say combat, then they are more potent but more vulnerable. If they say their intentions are objective-based, then they are more survivable but can't dispatch enemies as easily. It could also be and probably should be GM fiat, where the GM decides whether or not a given encounter is combat or objective based.\n",
    "\n",
    "But if we want to make game design decisions regarding this system, we need to be able to calculate the probabilities involved effortlessly, so it's time to get to coding now that we know how the math works.\n",
    "\n",
    "### We are actually back to coding now\n",
    "\n",
    "Our first issue is that we can easily try to index a list outside of its range if we make a general function. Another issue is our criticals, but we can kill two birds with one stone here. We fix it so that anything that would index out of the range of 5-16 is an automatic success or failure and doesn't even interact with our function (later we can factor in the specifics of critical tables, we'll wait until we fix a few other issues, particularly the entanglement of trade-offs between hit chance, amounts of hits, hit location, and hit damage that will come up later).\n",
    "\n",
    "Another thing we'll consider is that an attack at skill 18 or higher should automatically apply levels of deceptive attack, since your effective attack skill can only really be, at most, 16 since a roll of 17 is an automatic failure and 18 is a critical failure.\n",
    "\n",
    "So what we are doing is coding something that goes through like our lines above that multiplies the probability of getting a couple of totals and the corresponding defense value for those totals."
   ]
  },
  {
   "cell_type": "code",
   "execution_count": 26,
   "id": "ab3a28d4",
   "metadata": {},
   "outputs": [
    {
     "data": {
      "text/plain": [
       "0.7887088477366254"
      ]
     },
     "execution_count": 26,
     "metadata": {},
     "output_type": "execute_result"
    }
   ],
   "source": [
    "def homebrew_hit_chance(attack_skill, defense_skill):\n",
    "    success_values = []\n",
    "    for i in range(attack_skill//2):\n",
    "        success_values.append(prob_nds()[attack_skill - 2*i] * prob_failure_3d6()[defense_skill - i])\n",
    "        success_values.append(prob_nds().append(pd.Series([0], index=[2]))[attack_skill - 2*i - 1] * prob_failure_3d6()[defense_skill - i])\n",
    "    return sum(success_values)\n",
    "\n",
    "homebrew_hit_chance(15, 9)"
   ]
  },
  {
   "cell_type": "markdown",
   "id": "3f016e60",
   "metadata": {},
   "source": [
    "Well, we got the same answer as we did when we did everything manually.\n",
    "\n",
    "There is a bit of duct tape in the function that we can remove when we fix the `prob_nds()` function: `prob_nds()` does not contain an index for 2, which has a 0% chance of being rolled. In our function, we just append an index for 2 with a value of 0 so that we don't get an error on the last round of our for loop. Also we can probably use something from itertools that may make our code above better, but I don't think that it will be the cartesian product this time.\n",
    "\n",
    "One way to fix up the function might be to just calculate two arrays and then multiply them together, one that has the probabilities of the chance for certain rolls, which is `prob_nds()` and one that corresponds to the appropriate probability of failure for the defense roll modified by the deceptive attack mechanic.\n",
    "\n",
    "For now, lets fix up our `prob_nds()` function to contain an index 2, we're just moving the duct tape but it should be more readable."
   ]
  },
  {
   "cell_type": "code",
   "execution_count": 27,
   "id": "c3401f65",
   "metadata": {},
   "outputs": [
    {
     "data": {
      "text/plain": [
       "3     0.004630\n",
       "4     0.013889\n",
       "5     0.027778\n",
       "6     0.046296\n",
       "7     0.069444\n",
       "8     0.097222\n",
       "9     0.115741\n",
       "10    0.125000\n",
       "11    0.125000\n",
       "12    0.115741\n",
       "13    0.097222\n",
       "14    0.069444\n",
       "15    0.046296\n",
       "16    0.027778\n",
       "17    0.013889\n",
       "18    0.004630\n",
       "2     0.000000\n",
       "dtype: float64"
      ]
     },
     "execution_count": 27,
     "metadata": {},
     "output_type": "execute_result"
    }
   ],
   "source": [
    "def prob_nds(num_of_dice=3, sides=6):\n",
    "    all_possible_totals = pd.Series(sum(element) for element in it.product(range(1, sides+1), repeat=num_of_dice))\n",
    "    return (all_possible_totals.value_counts(sort=False) * sides**-num_of_dice).append(pd.Series([0], index=[2]))\n",
    "\n",
    "def homebrew_hit_chance(attack_skill, defense_skill):\n",
    "    success_values = []\n",
    "    for i in range(attack_skill//2):\n",
    "        success_values.append(prob_nds()[attack_skill - 2*i] * prob_failure_3d6()[defense_skill - i])\n",
    "        success_values.append(prob_nds()[attack_skill - 2*i - 1] * prob_failure_3d6()[defense_skill - i])\n",
    "    return sum(success_values)\n",
    "\n",
    "prob_nds()"
   ]
  },
  {
   "cell_type": "code",
   "execution_count": 28,
   "id": "841a8017",
   "metadata": {},
   "outputs": [
    {
     "data": {
      "text/plain": [
       "0.7887088477366254"
      ]
     },
     "execution_count": 28,
     "metadata": {},
     "output_type": "execute_result"
    }
   ],
   "source": [
    "homebrew_hit_chance(15, 9)"
   ]
  },
  {
   "cell_type": "markdown",
   "id": "779f79b6",
   "metadata": {},
   "source": [
    "Now, we can use this to make a homebrew version of the dps function"
   ]
  },
  {
   "cell_type": "code",
   "execution_count": 29,
   "id": "56b06559",
   "metadata": {},
   "outputs": [
    {
     "name": "stdout",
     "output_type": "stream",
     "text": [
      "2.172496570644719\n",
      "2.760480967078189\n"
     ]
    }
   ],
   "source": [
    "def homebrew_dps(attack_skill, defense_skill, sides_on_dice=6):\n",
    "    return homebrew_hit_chance(attack_skill, defense_skill) * average_damage(sides_on_dice)\n",
    "\n",
    "print(dps(15, 9, 1))\n",
    "print(homebrew_dps(15, 9))"
   ]
  },
  {
   "cell_type": "markdown",
   "id": "20805f1f",
   "metadata": {},
   "source": [
    "Even though it is the same attack and defense skills involved, `homebrew_dps()` will be higher DPS because chance to hit will always be higher. In this situation, we see an increase of ~0.6 DPS. Hits should come more often, making combat less suspenseful and more exciting (though this is a purely good thing since the suspense of GURPS combat is often instead annoyance at nothing happening)\n",
    "\n",
    "Next, we should upgrade our DPS calculation by letting `average_damage()` roll more than one dice and roll with modifiers."
   ]
  },
  {
   "cell_type": "code",
   "execution_count": 30,
   "id": "72fb22f4",
   "metadata": {},
   "outputs": [
    {
     "data": {
      "text/plain": [
       "3.5"
      ]
     },
     "execution_count": 30,
     "metadata": {},
     "output_type": "execute_result"
    }
   ],
   "source": [
    "average_damage(sides_on_dice=6)\n"
   ]
  },
  {
   "cell_type": "code",
   "execution_count": 31,
   "id": "75911005",
   "metadata": {},
   "outputs": [
    {
     "data": {
      "text/plain": [
       "8.0"
      ]
     },
     "execution_count": 31,
     "metadata": {},
     "output_type": "execute_result"
    }
   ],
   "source": [
    "def average_damage(sides_on_dice=6, number_of_dice=1, modifier=0):\n",
    "    return ((sides_on_dice / 2 + 0.5) * number_of_dice) + modifier\n",
    "\n",
    "average_damage(sides_on_dice=6, number_of_dice=2, modifier=1)"
   ]
  },
  {
   "cell_type": "markdown",
   "id": "2a76c4df",
   "metadata": {},
   "source": [
    "The math was easy, but now we have it all contained in the average_damage function, which will improve readability as apposed to adding multiplication operators and addition operators outside of the function.\n",
    "\n",
    "I also realize that the sides of dice is a nice feature, since our function can be more general in case we decide we want to use it in the future for a system that uses more than just a d6 for damage dice. We want to move that to the end of the inputs though in order to make it possible to ignore."
   ]
  },
  {
   "cell_type": "code",
   "execution_count": 32,
   "id": "42bf2fb9",
   "metadata": {},
   "outputs": [
    {
     "data": {
      "text/plain": [
       "8.0"
      ]
     },
     "execution_count": 32,
     "metadata": {},
     "output_type": "execute_result"
    }
   ],
   "source": [
    "def average_damage(number_of_dice=1, modifier=0, sides_on_dice=6):\n",
    "    return ((sides_on_dice / 2 + 0.5) * number_of_dice) + modifier\n",
    "\n",
    "average_damage(sides_on_dice=6, number_of_dice=2, modifier=1)"
   ]
  },
  {
   "cell_type": "code",
   "execution_count": 33,
   "id": "40c6b400",
   "metadata": {},
   "outputs": [
    {
     "data": {
      "text/plain": [
       "8.0"
      ]
     },
     "execution_count": 33,
     "metadata": {},
     "output_type": "execute_result"
    }
   ],
   "source": [
    "average_damage(2, 1)"
   ]
  },
  {
   "cell_type": "markdown",
   "id": "bfedc5ed",
   "metadata": {},
   "source": [
    "We also want to modify our dps functions to work with different damage dice. We'll also remove the `sides_on_dice` parameter for now since we like GURPS so much."
   ]
  },
  {
   "cell_type": "code",
   "execution_count": 34,
   "id": "bec20ed8",
   "metadata": {},
   "outputs": [
    {
     "name": "stdout",
     "output_type": "stream",
     "text": [
      "2.172496570644719\n",
      "2.760480967078189\n"
     ]
    }
   ],
   "source": [
    "def homebrew_dps(attack_skill, defense_skill, number_of_dice=1, modifier=0):\n",
    "    return homebrew_hit_chance(attack_skill, defense_skill) * average_damage(number_of_dice, modifier)\n",
    "\n",
    "def dps(attack_skill, defense_skill, deceptive_attack=0, number_of_dice=1, modifier=0):\n",
    "    attack_skill -= 2 * deceptive_attack\n",
    "    defense_skill -= 1 * deceptive_attack\n",
    "    return prob_success_3d6().loc[attack_skill] * prob_failure_3d6().loc[defense_skill] * average_damage(number_of_dice, modifier)\n",
    "\n",
    "print(dps(15, 9, 1))\n",
    "print(homebrew_dps(15, 9))"
   ]
  },
  {
   "cell_type": "markdown",
   "id": "983a8a0e",
   "metadata": {},
   "source": [
    "We have finished with deceptive attack; next up is...\n",
    "\n",
    "# All-Out Attacks\n",
    "\n",
    "In GURPS 4e, all-out attacks give you combat options that trade off your ability to defend for extra offense.\n",
    "\n",
    "For our next section of code, we'll be looking at how to sort out which is better for DPS: +4 to attack or +2 to damage/+1 damage per dice whichever is higher. This is looking at All-Out Attack: Determined and All-Out Attack: Strong specifically.\n",
    "\n",
    "After that, we can look forward to calculating All-Out Attack: Double and All-Out Attack: Feint. We might want to make a function that outputs a combat choice for an input of our DPS function: it could take specific keywords like \"determined\" or \"strong\" or it could take arguments that set up things like if someone added a homebrew combat action that gave +3 to hit. Probably after that should be Damage Reduction and Damage Types. After all that, we can figure out how we can calculate DPS given more than one second, since single attacks in GURPS can take a while, 4 to 5 seconds in some cases, and we need to compare that against just attacking 5 times."
   ]
  },
  {
   "cell_type": "markdown",
   "id": "26d0697d",
   "metadata": {},
   "source": [
    "# Probability of 4d6 drop lowest\n",
    "\n",
    "`The prob_success_3d6()` function gives us the probability to get a certain total or lower, but first we'll actually look at getting specific values, sorta like the `prob_nds()` function. For the purposes of exploring how this function should work, we are going to step outside of the GURPS system and enter Dungeons and Dragons. One popular way to determine starting stats is to roll 4d6 and drop the lowest value, taking the total of the three highest dice. Our objective is to say how common it is to get a certain total: the specific question that possessed me to figure this out is \"what is the probability of getting a 7?\" since one of my party members in a D&D game got a 7 using this method, which feels quite rare.\n",
    "\n",
    "we'll use a modified version of the function, let's just explore the code to see what needs to be modified"
   ]
  },
  {
   "cell_type": "code",
   "execution_count": 35,
   "id": "4030534a",
   "metadata": {},
   "outputs": [],
   "source": [
    "def prob_nds_drlow(num_of_dice=4, sides=6):\n",
    "    all_possible_totals = pd.Series(sum(element) for element in it.product(range(1, sides+1), repeat=num_of_dice))\n",
    "    return (all_possible_totals.value_counts(sort=False) * sides**-num_of_dice).append(pd.Series([0], index=[2]))"
   ]
  },
  {
   "cell_type": "markdown",
   "id": "3b417047",
   "metadata": {},
   "source": [
    "We replaced a nested for loop when we made this function with the `product()` function from itertools; it is creating a list of lists which we use a for loop to iterate over and sum. We don't want to just sum the list of lists now though; we want to drop the lowest value and then sum it, so we need to modify the element before it is summed to drop the minimum value.\n",
    "\n",
    "I have found [this](https://stackoverflow.com/questions/5656670/remove-max-and-min-values-from-python-list-of-integers) stack overflow thread, and it looks like the `mylist.remove(min(mylist))` line of code should fit our purposes perfectly—it even assumes that it is ok to only drop one of the minimum values, so if we roll `[6, 6, 6, 6]`, then we get `[6, 6, 6]` as expected.\n",
    "\n",
    "We also need to remove our duct tape code: `.append(pd.Series([0], index=[2]))`\n",
    "\n",
    "One problem with our solution is that our `element` variable is actually a tuple! Tuples are immutable so we can't remove stuff! Simply turning the element variable into a list with the list function doesn't seem to work, as you get the error `TypeError: 'NoneType' object is not iterable`. I'm assuming that answer in the stack exchange thread was wrong and my remove method is removing too much."
   ]
  },
  {
   "cell_type": "code",
   "execution_count": 36,
   "id": "98391c79",
   "metadata": {},
   "outputs": [
    {
     "data": {
      "text/plain": [
       "[1, 1, 1]"
      ]
     },
     "execution_count": 36,
     "metadata": {},
     "output_type": "execute_result"
    }
   ],
   "source": [
    "mylist = [1, 1, 1, 1]\n",
    "mylist.remove(min(tuple(mylist)))\n",
    "mylist"
   ]
  },
  {
   "cell_type": "markdown",
   "id": "2fc54bab",
   "metadata": {},
   "source": [
    "Ok so... the remove method works as intended, so something else is going wrong.\n",
    "\n",
    "What is happening is that, mysteriously, the remove method in our function is, instead of removing a value in-place, it is simply returning `None` for literally every `element` in the for loop.\n",
    "\n",
    "printing min(element) returns the minimum value in each permutation\n",
    "\n",
    "printing element returns each permutation, and the list function works\n",
    "\n",
    "printing element (using the list function of course) with the .remove() method returns None instead of removing an element from the list. Ok I think I figured it out\n",
    "\n",
    "The .remove() method doesn't work because it is trying to change a variable, and I'm not using a variable, so I need to find some technique that doesn't use a method that tries to change a variable in-place. I'm wondering if there is some way around this. I might have to make a stack overflow thread myself.\n",
    "\n",
    "To clarify, the problem is that `list(element).remove(codeandstuff)` is not correct, because changing a tuple into a list and using the remove method all in one line doesn't work. Maybe I can keep the three highest values instead? I guess another option is to define a function that takes a tuple and returns a list with the minimum value removed; this might even use the same code, but it will reconcile the use of the .remove() method. It turns out that it doesn't, in fact it does something even more interesting, it always returns `None` even if I don't feed it a tuple and if I feed it a list and don't convert it into a list. Next, I'll try to declare some variables within the function to hopefully get around this problem. Doesn't work.\n",
    "\n",
    "You know, there are three states of being: Cruising (where everything is fine), Steering (where everything is NOT FINE), and Jesus Take The Wheel (where it's time to make a thread on stack overflow)\n",
    "\n",
    "I'm steering.\n",
    "\n",
    "Next, we'll try the `del` keyword. We have to find a way to find the minimum value and delete it, so we need its index, sigh.\n",
    "\n",
    "And finally, it works."
   ]
  },
  {
   "cell_type": "code",
   "execution_count": 37,
   "id": "f27660c6",
   "metadata": {},
   "outputs": [
    {
     "data": {
      "text/plain": [
       "3     0.000772\n",
       "4     0.003086\n",
       "5     0.007716\n",
       "6     0.016204\n",
       "7     0.029321\n",
       "8     0.047840\n",
       "9     0.070216\n",
       "10    0.094136\n",
       "11    0.114198\n",
       "12    0.128858\n",
       "13    0.132716\n",
       "14    0.123457\n",
       "15    0.101080\n",
       "16    0.072531\n",
       "17    0.041667\n",
       "18    0.016204\n",
       "dtype: float64"
      ]
     },
     "execution_count": 37,
     "metadata": {},
     "output_type": "execute_result"
    }
   ],
   "source": [
    "def drop_lowest(iterable):\n",
    "    iterable_as_list = list(iterable)\n",
    "    del iterable_as_list[iterable.index(min(iterable))]\n",
    "    return iterable_as_list\n",
    "\n",
    "def prob_nds_drlow(num_of_dice=4, sides=6):\n",
    "    all_possible_totals = pd.Series(sum(drop_lowest(element)) for element in it.product(range(1, sides+1), repeat=num_of_dice))\n",
    "    return all_possible_totals.value_counts(sort=False) * sides**-num_of_dice\n",
    "\n",
    "prob_nds_drlow()"
   ]
  },
  {
   "cell_type": "markdown",
   "id": "988d979b",
   "metadata": {},
   "source": [
    "The answer to the question is that there is a 2.9% to roll a 7 for a stat, more rare than a crit in a d20 system.\n",
    "\n",
    "The next step is to find the probability of getting any given total for rolling 4d6 drop lowest 6 times for stats.\n",
    "\n",
    "And then, we'll teach ourselves how to find the probability that we can expect to see a result."
   ]
  },
  {
   "cell_type": "markdown",
   "id": "289d4731",
   "metadata": {},
   "source": [
    "# Probability of d20 Rolls with Advantage or Disadvantage and Modifiers\n",
    "\n",
    "Continuing on our D&D topic, we might also want to know the probabilities involved with Advantage and Disadvantage, especially when modifiers come into play. At the end of this, we want to be able to answer questions like \"How likely am I to charm a monster in combat after hitting a successful Mind Sliver\". The answer involves calculating advantage with a modifier from a d4, so not something that is easy to do in one's head. This way, we can decide if it is more worth it to spend many spell slots on failed charm attempts or to wait for a successful Mind Sliver, or if we should just not be charming in combat unless we can negate the advantage on the save? Should we Mind Sliver even if we can negate advantage for a save? This will also help develop tools for analytical game design.\n",
    "\n",
    "Up to this point, we have been calculating the probability of getting a total (or a total or lower/higher than a total) when rolling multiple dice. For Advantage, we want to calculate the probality when rolling 2d20 to get a certain number or higher on either dice, rather than totalling them together. For Disadvantage we want to calculate the probability when rolling 2d20 to get a certain number or higher, but only on the dice with a lower number.\n",
    "\n",
    "We'll want to use techniques we've already used to list the 400 permutations of 2d20, and then we can use code to discriminate between the two values. Previously, we used a sum function to total each set of dice rolls, and then we use `Series.value_counts()` and math to give us probabilities; this time we'll use a max function for Advantage and a min function for Disadvantage to simply return the appropriate value, and then we'll use the same technique to count up the options. It sounds like we'll want to recycle our `prob_nds()` function. From a functional standpoint, it almost seems like the function we want to have takes a function in its arguments for the comprehension that gets turned into a Series.\n",
    "\n",
    "On another note, GURPS has this mechanic with the Luck feature. It takes the best of 3 totals, so it is more complicated, we'll see if we use similar code once more."
   ]
  },
  {
   "cell_type": "code",
   "execution_count": 38,
   "id": "d83b12d5",
   "metadata": {},
   "outputs": [
    {
     "data": {
      "text/plain": [
       "1     0.0025\n",
       "2     0.0075\n",
       "3     0.0125\n",
       "4     0.0175\n",
       "5     0.0225\n",
       "6     0.0275\n",
       "7     0.0325\n",
       "8     0.0375\n",
       "9     0.0425\n",
       "10    0.0475\n",
       "11    0.0525\n",
       "12    0.0575\n",
       "13    0.0625\n",
       "14    0.0675\n",
       "15    0.0725\n",
       "16    0.0775\n",
       "17    0.0825\n",
       "18    0.0875\n",
       "19    0.0925\n",
       "20    0.0975\n",
       "dtype: float64"
      ]
     },
     "execution_count": 38,
     "metadata": {},
     "output_type": "execute_result"
    }
   ],
   "source": [
    "def prob_nds_adv(num_of_dice=2, sides=20):\n",
    "    all_possible_totals = pd.Series(max(element) for element in it.product(range(1, sides+1), repeat=num_of_dice))\n",
    "    return all_possible_totals.value_counts(sort=False) * sides**-num_of_dice\n",
    "\n",
    "prob_nds_adv()"
   ]
  },
  {
   "cell_type": "code",
   "execution_count": 39,
   "id": "39076b77",
   "metadata": {},
   "outputs": [
    {
     "data": {
      "text/plain": [
       "1     0.0975\n",
       "2     0.0925\n",
       "3     0.0875\n",
       "4     0.0825\n",
       "5     0.0775\n",
       "6     0.0725\n",
       "7     0.0675\n",
       "8     0.0625\n",
       "9     0.0575\n",
       "10    0.0525\n",
       "11    0.0475\n",
       "12    0.0425\n",
       "13    0.0375\n",
       "14    0.0325\n",
       "15    0.0275\n",
       "16    0.0225\n",
       "17    0.0175\n",
       "18    0.0125\n",
       "19    0.0075\n",
       "20    0.0025\n",
       "dtype: float64"
      ]
     },
     "execution_count": 39,
     "metadata": {},
     "output_type": "execute_result"
    }
   ],
   "source": [
    "def prob_nds_disadv(num_of_dice=2, sides=20):\n",
    "    all_possible_totals = pd.Series(min(element) for element in it.product(range(1, sides+1), repeat=num_of_dice))\n",
    "    return all_possible_totals.value_counts(sort=False) * sides**-num_of_dice\n",
    "\n",
    "prob_nds_disadv()"
   ]
  },
  {
   "cell_type": "code",
   "execution_count": 41,
   "id": "921863e3",
   "metadata": {},
   "outputs": [
    {
     "data": {
      "text/plain": [
       "1     0.0025\n",
       "2     0.0100\n",
       "3     0.0225\n",
       "4     0.0400\n",
       "5     0.0625\n",
       "6     0.0900\n",
       "7     0.1225\n",
       "8     0.1600\n",
       "9     0.2025\n",
       "10    0.2500\n",
       "11    0.3025\n",
       "12    0.3600\n",
       "13    0.4225\n",
       "14    0.4900\n",
       "15    0.5625\n",
       "16    0.6400\n",
       "17    0.7225\n",
       "18    0.8100\n",
       "19    0.9025\n",
       "20    1.0000\n",
       "dtype: float64"
      ]
     },
     "execution_count": 41,
     "metadata": {},
     "output_type": "execute_result"
    }
   ],
   "source": [
    "def prob_success_5e_adv():\n",
    "    return prob_nds_adv(num_of_dice=2, sides=20).cumsum()\n",
    "prob_success_5e_adv()"
   ]
  },
  {
   "cell_type": "markdown",
   "id": "c79d92a0",
   "metadata": {},
   "source": [
    "Unfortunately we can't reuse our GURPS code for D&D5e. For D&D 5e, we need to consider not a static skill to roll against, but a Spell Save Difficulty Class (Spell DC), as well as a modifier for a Charisma Spell Save (CHA Save). These could be arguments for our functions, but what we should do is output a list of probabilities that correspond to a list of CHA Save modifiers given an input Spell DC. This will make it a lot more useful if the CHA Save modifier is unknown."
   ]
  }
 ],
 "metadata": {
  "kernelspec": {
   "display_name": "Python 3",
   "language": "python",
   "name": "python3"
  },
  "language_info": {
   "codemirror_mode": {
    "name": "ipython",
    "version": 3
   },
   "file_extension": ".py",
   "mimetype": "text/x-python",
   "name": "python",
   "nbconvert_exporter": "python",
   "pygments_lexer": "ipython3",
   "version": "3.8.8"
  }
 },
 "nbformat": 4,
 "nbformat_minor": 5
}
